{
 "cells": [
  {
   "cell_type": "markdown",
   "metadata": {},
   "source": [
    "# Detecting and counting objects on store shelf\n",
    "\n",
    "### Problem Statement\n",
    "From a picture of store shelf, we need to detect and count different object types and also to include any new object to our database\n",
    "\n",
    "### How would it help?\n",
    "- Regular counting and stock update can be maintained\n",
    "- Customers can be guided to exact position of desired object on the shelf\n",
    "- Daily sales of different product genre and sales could be tracked"
   ]
  },
  {
   "cell_type": "markdown",
   "metadata": {},
   "source": [
    "![image](presentation_assets/test.jpg)"
   ]
  },
  {
   "cell_type": "markdown",
   "metadata": {},
   "source": [
    "## Solution approach\n",
    "### Step1: Creating a segmentation map\n",
    "![segmentation_map](presentation_assets/segmentation_map2.png)"
   ]
  },
  {
   "cell_type": "markdown",
   "metadata": {},
   "source": [
    "### Pre-processing\n",
    "Applied **kernel-wise pyramid mean shift** to get crisp edges for watershed followed by lumination adjustmnet using **OTSU thresholding**\n",
    "\n",
    "![mean shifted](presentation_assets/pyMeanShifted.png)\n",
    "\n",
    "### Watershed\n",
    "Watershed algorithm helps to determine regions of seperation which can then be used to mark different regions"
   ]
  },
  {
   "cell_type": "markdown",
   "metadata": {},
   "source": [
    "![watershed_crops](presentation_assets/watershed_crops.png)"
   ]
  },
  {
   "cell_type": "markdown",
   "metadata": {},
   "source": [
    "### Counting task:\n",
    "We need to measure how much one object is similar to another. Also, if it is dissimilar to all, store it in memory and add it to current searching class\n",
    "\n",
    "##### Two Techniques could be helpful here:\n",
    "1. OpenCV's template matcher (Normalized)\n",
    "2. Siamesse Convolution Network"
   ]
  },
  {
   "cell_type": "markdown",
   "metadata": {},
   "source": [
    "What exactly we want?\n",
    "![template_match](presentation_assets/template_match.png)"
   ]
  },
  {
   "cell_type": "markdown",
   "metadata": {},
   "source": [
    "## Result count\n",
    "Eliminating matched figure while successively incrementing the count resulted in these count values\n",
    "![result_count](presentation_assets/result_count.png)"
   ]
  },
  {
   "cell_type": "markdown",
   "metadata": {},
   "source": [
    "## Planogram map with segmented regions\n",
    "![segmentation](presentation_assets/segmented_image.jpg)"
   ]
  },
  {
   "cell_type": "markdown",
   "metadata": {},
   "source": [
    "## Future increments\n",
    "- Improve the matching step to club more similar cases\n",
    "- Showing these matches in form of clusters to construct the whole planogram"
   ]
  }
 ],
 "metadata": {
  "kernelspec": {
   "display_name": "Python 3",
   "language": "python",
   "name": "python3"
  },
  "language_info": {
   "codemirror_mode": {
    "name": "ipython",
    "version": 3
   },
   "file_extension": ".py",
   "mimetype": "text/x-python",
   "name": "python",
   "nbconvert_exporter": "python",
   "pygments_lexer": "ipython3",
   "version": "3.7.6"
  }
 },
 "nbformat": 4,
 "nbformat_minor": 4
}
